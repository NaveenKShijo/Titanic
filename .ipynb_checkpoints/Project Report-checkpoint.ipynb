{
 "cells": [
  {
   "cell_type": "markdown",
   "id": "4cfc1f12-8e81-437b-ab40-b2e876a0658a",
   "metadata": {},
   "source": [
    "<h1 align=\"center\">PROJECT REPORT</h1>"
   ]
  },
  {
   "cell_type": "markdown",
   "id": "d824f8a5-39ba-4192-bcd2-9bc1a80e76d0",
   "metadata": {},
   "source": [
    "<h2 style=\"color: red\">Titanic Survival Analysis</h2>"
   ]
  },
  {
   "cell_type": "markdown",
   "id": "79ba7f4e-2f89-45d6-81f5-cd32729b8db4",
   "metadata": {},
   "source": [
    "<h4 style=\"color:green\">Project Overview</h4>"
   ]
  },
  {
   "cell_type": "markdown",
   "id": "e07748ec-5799-4bdc-b4b4-18e594220d9d",
   "metadata": {},
   "source": [
    "<p>This project is an <b>Exploratory Data Analysis(EDA)</b> of the titanic dataset to understand the patterns related to passenger survival. Processes performed were data cleaning, feature engineering & insightful visualizations using Python libraries like NumPy, Pandas & Matplotlib</p>"
   ]
  },
  {
   "cell_type": "markdown",
   "id": "6269a492-396f-4e69-b435-287e3f37c113",
   "metadata": {},
   "source": [
    "<h4 style=\"color:green\">Dataset Used</h4>"
   ]
  },
  {
   "cell_type": "markdown",
   "id": "06630f27-2e97-4cec-9b73-b80b2064cf4f",
   "metadata": {},
   "source": [
    "\n",
    "<p>The dataset used in this project is the Titanic dataset from Kaggle, which contained features like PassengerId, Name, Sex, Sibling/Spouse, Parent/children, Ticket, Fare, Cabin, Embarked & Survival status.</p>"
   ]
  },
  {
   "cell_type": "markdown",
   "id": "4fbb9542-c6fc-42f0-a59f-36659e7e1073",
   "metadata": {},
   "source": [
    "<h4 style=\"color:green\">Data Cleaning</h4>"
   ]
  },
  {
   "cell_type": "markdown",
   "id": "63f1f1bd-5644-4521-9d3b-18b32d550ebc",
   "metadata": {},
   "source": [
    "\n",
    "The quality of dataset was greatly enhanced by performing various cleaning operations and it was made ready for analysis with the following steps:\n",
    "\n",
    "- Dropped the `Cabin` column due to high\n",
    "  \n",
    "- The `Age` column which had 20% missing values was replaced with the median\n",
    "\n",
    "- `Embarked` feature which had very few null entries was replaced by the mode\n",
    "\n",
    "- The feature `Sibsp` was renamed to `Siblings_Spouse_aboard` for better readability\n",
    "\n",
    "- Also the name of the column `Parch` was changed to `Parent_Children_aboard`\n",
    "\n",
    "- The feature `Age` had the datatype float64. Changed it to int64\n",
    "\n",
    "- Similarly, the datatype of the feature `Sex` was changed from object to category\n",
    "  "
   ]
  },
  {
   "cell_type": "markdown",
   "id": "369b9659-a9c3-4675-8b29-4ee436e30972",
   "metadata": {},
   "source": [
    "<h4 style='color:green'>Feature Engineering</h4>"
   ]
  },
  {
   "cell_type": "markdown",
   "id": "1ae4302c-59ed-40a2-ab35-f352184878ca",
   "metadata": {},
   "source": [
    "<p>The feature engineering is used to use existing features to create new columns which can be further used for other purposes.</p>\n",
    "\n",
    "- In the `Name` feature, title is extracted and it is added as a new feature\n",
    "\n",
    "- Also since we will be encoding categorical columns for the purpose of training that data to a model, we encoded the `Sex` column into numbers 0 & 1 and added it as a new column\n",
    "\n",
    "- Summing up the number of values from `Siblings_Spouse_aboard` and `Parent_Children_aboard`, we get a new column representing the family size, `"
   ]
  },
  {
   "cell_type": "markdown",
   "id": "bf7429d2-d747-4ebb-b7f2-ebe56a8cdfb4",
   "metadata": {},
   "source": [
    "<h4 style=\"color:green\">Exploratory Data Analysis</h4>"
   ]
  },
  {
   "cell_type": "markdown",
   "id": "70924618-ef75-4c77-9d62-1c0d4e2de519",
   "metadata": {},
   "source": [
    "<p>In EDA phase, we explore the data and find the relationship between various variables in the data. The following are the insights and visualizations that we implemented: </p>\n",
    "\n",
    "1. <b>Overall survival count</b>\n",
    "    <p>Only 342 people survived and 549 people lost their lives</p>\n",
    "    <br>\n",
    "\n",
    "2. <b>Survival count by gender</b>\n",
    "    <p> In case survival by gender, it is observed that women had improved chances of survival compared to men</p><br>\n",
    "    \n",
    "3. <b>Survival count by wealth</b>\n",
    "    <p>Wealthy people had more privileges to be rescued and more security access than people at other classes.</p><br>\n",
    "\n",
    "4. <b>Distribution of ages of passengers</b>\n",
    "    <p>The ages of passengers is distributed between 0 & 80 such that most passengers were young adults.</p><br>\n",
    "\n",
    "5. <b>Distribution of ages of survivors</b>\n",
    "    <p>The age distribution of survivors were almost similar to the age distribution of passengers.</p><br>\n",
    "    \n",
    "6. <b>Distribution of ages of victims</b>\n",
    "    <p>Also, the age distribution of dead people were also exactly similar to that of the distribution of passengers.</p><br>\n",
    "\n",
    "7. <b>Relationship between family count & survival</b>\n",
    "    <p>It was found that people without family had great death rate, compared to those people who had family count of 1, 2 & 3. </p><br>\n",
    "\n",
    "8. <b>Survival count by embarked port</b>\n",
    "    <p>The passengers who embarked from Cherbourg port had higher survival rate.</p><br>\n",
    "\n",
    "9. <b>Survival count by Title(new feature created from the feature `Name`)</b>\n",
    "    <p>The titles had an influence over the survival of people. Masters, Mrs & Miss titles holders had relatively higher survival rates compared to others</p><br>\n",
    "\n",
    "10. <b>Distribution of fares among passengers</b>\n",
    "    <p>Majority of the passengers paid less than 50 units as the ticket fare. Only few people paid more than 100 and among them, only handful paid more than 500 </p><br>"
   ]
  },
  {
   "cell_type": "code",
   "execution_count": null,
   "id": "b15381dd-7b2d-4959-b946-8849cc3d4ffc",
   "metadata": {},
   "outputs": [],
   "source": []
  }
 ],
 "metadata": {
  "kernelspec": {
   "display_name": "Python (firstEnv)",
   "language": "python",
   "name": "firstenv"
  },
  "language_info": {
   "codemirror_mode": {
    "name": "ipython",
    "version": 3
   },
   "file_extension": ".py",
   "mimetype": "text/x-python",
   "name": "python",
   "nbconvert_exporter": "python",
   "pygments_lexer": "ipython3",
   "version": "3.10.18"
  }
 },
 "nbformat": 4,
 "nbformat_minor": 5
}
