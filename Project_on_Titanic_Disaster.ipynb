{
 "cells": [
  {
   "cell_type": "markdown",
   "id": "d9fe65f0-53ee-4e45-902a-7e99e00ada08",
   "metadata": {},
   "source": [
    "<h2 style=\"color:blue\">Titanic Disaster Data Analysis Project</h2>\n",
    "\n",
    "<h5>This project aims to analyse what are the factors that determined the survival rates of passengers in Titanic</h5>"
   ]
  },
  {
   "cell_type": "markdown",
   "id": "9f9de1f3-18e8-4776-a4e8-9d99bb469f0d",
   "metadata": {},
   "source": [
    "<h3 style=\"color:blue\">Import Libraries</h3>\n",
    "<h5>The tools used for this data analysis project include:<br><br>NumPy, Pandas & Matplotlib</h5>"
   ]
  },
  {
   "cell_type": "code",
   "execution_count": 2,
   "id": "5294ad3b-8dea-42e3-96f3-12aa68c24ba6",
   "metadata": {},
   "outputs": [],
   "source": [
    "import numpy as np\n",
    "import pandas as pd\n",
    "import matplotlib.pyplot as plt"
   ]
  },
  {
   "cell_type": "markdown",
   "id": "f17bb2cb-a9e3-4238-8d5e-82f725645273",
   "metadata": {},
   "source": [
    "<h3 style=\"color:blue\">Dataset loading</h3>\n",
    "<h5>Titanic dataset is used for this analysis. It is loaded into a dataframe and we begin the data exploration</h5>"
   ]
  },
  {
   "cell_type": "code",
   "execution_count": 3,
   "id": "d6b61e31-5674-43e9-a927-7b2cc2bf398e",
   "metadata": {},
   "outputs": [
    {
     "data": {
      "text/html": [
       "<div>\n",
       "<style scoped>\n",
       "    .dataframe tbody tr th:only-of-type {\n",
       "        vertical-align: middle;\n",
       "    }\n",
       "\n",
       "    .dataframe tbody tr th {\n",
       "        vertical-align: top;\n",
       "    }\n",
       "\n",
       "    .dataframe thead th {\n",
       "        text-align: right;\n",
       "    }\n",
       "</style>\n",
       "<table border=\"1\" class=\"dataframe\">\n",
       "  <thead>\n",
       "    <tr style=\"text-align: right;\">\n",
       "      <th></th>\n",
       "      <th>PassengerId</th>\n",
       "      <th>Survived</th>\n",
       "      <th>Pclass</th>\n",
       "      <th>Name</th>\n",
       "      <th>Sex</th>\n",
       "      <th>Age</th>\n",
       "      <th>SibSp</th>\n",
       "      <th>Parch</th>\n",
       "      <th>Ticket</th>\n",
       "      <th>Fare</th>\n",
       "      <th>Cabin</th>\n",
       "      <th>Embarked</th>\n",
       "    </tr>\n",
       "  </thead>\n",
       "  <tbody>\n",
       "    <tr>\n",
       "      <th>0</th>\n",
       "      <td>1</td>\n",
       "      <td>0</td>\n",
       "      <td>3</td>\n",
       "      <td>Braund, Mr. Owen Harris</td>\n",
       "      <td>male</td>\n",
       "      <td>22.0</td>\n",
       "      <td>1</td>\n",
       "      <td>0</td>\n",
       "      <td>A/5 21171</td>\n",
       "      <td>7.2500</td>\n",
       "      <td>NaN</td>\n",
       "      <td>S</td>\n",
       "    </tr>\n",
       "    <tr>\n",
       "      <th>1</th>\n",
       "      <td>2</td>\n",
       "      <td>1</td>\n",
       "      <td>1</td>\n",
       "      <td>Cumings, Mrs. John Bradley (Florence Briggs Th...</td>\n",
       "      <td>female</td>\n",
       "      <td>38.0</td>\n",
       "      <td>1</td>\n",
       "      <td>0</td>\n",
       "      <td>PC 17599</td>\n",
       "      <td>71.2833</td>\n",
       "      <td>C85</td>\n",
       "      <td>C</td>\n",
       "    </tr>\n",
       "    <tr>\n",
       "      <th>2</th>\n",
       "      <td>3</td>\n",
       "      <td>1</td>\n",
       "      <td>3</td>\n",
       "      <td>Heikkinen, Miss. Laina</td>\n",
       "      <td>female</td>\n",
       "      <td>26.0</td>\n",
       "      <td>0</td>\n",
       "      <td>0</td>\n",
       "      <td>STON/O2. 3101282</td>\n",
       "      <td>7.9250</td>\n",
       "      <td>NaN</td>\n",
       "      <td>S</td>\n",
       "    </tr>\n",
       "    <tr>\n",
       "      <th>3</th>\n",
       "      <td>4</td>\n",
       "      <td>1</td>\n",
       "      <td>1</td>\n",
       "      <td>Futrelle, Mrs. Jacques Heath (Lily May Peel)</td>\n",
       "      <td>female</td>\n",
       "      <td>35.0</td>\n",
       "      <td>1</td>\n",
       "      <td>0</td>\n",
       "      <td>113803</td>\n",
       "      <td>53.1000</td>\n",
       "      <td>C123</td>\n",
       "      <td>S</td>\n",
       "    </tr>\n",
       "    <tr>\n",
       "      <th>4</th>\n",
       "      <td>5</td>\n",
       "      <td>0</td>\n",
       "      <td>3</td>\n",
       "      <td>Allen, Mr. William Henry</td>\n",
       "      <td>male</td>\n",
       "      <td>35.0</td>\n",
       "      <td>0</td>\n",
       "      <td>0</td>\n",
       "      <td>373450</td>\n",
       "      <td>8.0500</td>\n",
       "      <td>NaN</td>\n",
       "      <td>S</td>\n",
       "    </tr>\n",
       "  </tbody>\n",
       "</table>\n",
       "</div>"
      ],
      "text/plain": [
       "   PassengerId  Survived  Pclass  \\\n",
       "0            1         0       3   \n",
       "1            2         1       1   \n",
       "2            3         1       3   \n",
       "3            4         1       1   \n",
       "4            5         0       3   \n",
       "\n",
       "                                                Name     Sex   Age  SibSp  \\\n",
       "0                            Braund, Mr. Owen Harris    male  22.0      1   \n",
       "1  Cumings, Mrs. John Bradley (Florence Briggs Th...  female  38.0      1   \n",
       "2                             Heikkinen, Miss. Laina  female  26.0      0   \n",
       "3       Futrelle, Mrs. Jacques Heath (Lily May Peel)  female  35.0      1   \n",
       "4                           Allen, Mr. William Henry    male  35.0      0   \n",
       "\n",
       "   Parch            Ticket     Fare Cabin Embarked  \n",
       "0      0         A/5 21171   7.2500   NaN        S  \n",
       "1      0          PC 17599  71.2833   C85        C  \n",
       "2      0  STON/O2. 3101282   7.9250   NaN        S  \n",
       "3      0            113803  53.1000  C123        S  \n",
       "4      0            373450   8.0500   NaN        S  "
      ]
     },
     "execution_count": 3,
     "metadata": {},
     "output_type": "execute_result"
    }
   ],
   "source": [
    "titanic = pd.read_csv(\"../train.csv\")\n",
    "titanic.head()"
   ]
  },
  {
   "cell_type": "markdown",
   "id": "42fd0921-3062-4fc5-abac-8aa1870d06d6",
   "metadata": {},
   "source": [
    "<h3 style=\"color:blue\">Dataset Exploration</h3>\n",
    "<h5>The dataset is evaluated rigorously to understand the variables, their meanings and it's influence over the end goal we have. We understand the types of data we deal with, identify missing values and get high level overview of the dataset</h5>"
   ]
  },
  {
   "cell_type": "code",
   "execution_count": 4,
   "id": "b7c88766-0701-46c3-aec8-a39cacd5d998",
   "metadata": {},
   "outputs": [
    {
     "data": {
      "text/plain": [
       "(891, 12)"
      ]
     },
     "execution_count": 4,
     "metadata": {},
     "output_type": "execute_result"
    }
   ],
   "source": [
    "titanic.shape"
   ]
  },
  {
   "cell_type": "code",
   "execution_count": 5,
   "id": "1166912b-7375-4c1e-b783-152df4fc1bdb",
   "metadata": {},
   "outputs": [
    {
     "data": {
      "text/plain": [
       "Index(['PassengerId', 'Survived', 'Pclass', 'Name', 'Sex', 'Age', 'SibSp',\n",
       "       'Parch', 'Ticket', 'Fare', 'Cabin', 'Embarked'],\n",
       "      dtype='object')"
      ]
     },
     "execution_count": 5,
     "metadata": {},
     "output_type": "execute_result"
    }
   ],
   "source": [
    "titanic.columns"
   ]
  },
  {
   "cell_type": "code",
   "execution_count": 71,
   "id": "09e2e815-5404-4866-a08c-828490096393",
   "metadata": {},
   "outputs": [
    {
     "data": {
      "text/plain": [
       "PassengerId      int64\n",
       "Survived         int64\n",
       "Pclass           int64\n",
       "Name            object\n",
       "Sex             object\n",
       "Age            float64\n",
       "SibSp            int64\n",
       "Parch            int64\n",
       "Ticket          object\n",
       "Fare           float64\n",
       "Cabin           object\n",
       "Embarked        object\n",
       "dtype: object"
      ]
     },
     "execution_count": 71,
     "metadata": {},
     "output_type": "execute_result"
    }
   ],
   "source": [
    "titanic.dtypes"
   ]
  },
  {
   "cell_type": "code",
   "execution_count": 8,
   "id": "16928f11-695c-4c5f-80a3-4b5cd4f11a51",
   "metadata": {},
   "outputs": [
    {
     "name": "stdout",
     "output_type": "stream",
     "text": [
      "<class 'pandas.core.frame.DataFrame'>\n",
      "RangeIndex: 891 entries, 0 to 890\n",
      "Data columns (total 12 columns):\n",
      " #   Column       Non-Null Count  Dtype  \n",
      "---  ------       --------------  -----  \n",
      " 0   PassengerId  891 non-null    int64  \n",
      " 1   Survived     891 non-null    int64  \n",
      " 2   Pclass       891 non-null    int64  \n",
      " 3   Name         891 non-null    object \n",
      " 4   Sex          891 non-null    object \n",
      " 5   Age          714 non-null    float64\n",
      " 6   SibSp        891 non-null    int64  \n",
      " 7   Parch        891 non-null    int64  \n",
      " 8   Ticket       891 non-null    object \n",
      " 9   Fare         891 non-null    float64\n",
      " 10  Cabin        204 non-null    object \n",
      " 11  Embarked     889 non-null    object \n",
      "dtypes: float64(2), int64(5), object(5)\n",
      "memory usage: 83.7+ KB\n"
     ]
    }
   ],
   "source": [
    "titanic.info()"
   ]
  },
  {
   "cell_type": "code",
   "execution_count": 9,
   "id": "ffa017e7-590f-417e-aac0-75eb92f00304",
   "metadata": {},
   "outputs": [
    {
     "data": {
      "text/html": [
       "<div>\n",
       "<style scoped>\n",
       "    .dataframe tbody tr th:only-of-type {\n",
       "        vertical-align: middle;\n",
       "    }\n",
       "\n",
       "    .dataframe tbody tr th {\n",
       "        vertical-align: top;\n",
       "    }\n",
       "\n",
       "    .dataframe thead th {\n",
       "        text-align: right;\n",
       "    }\n",
       "</style>\n",
       "<table border=\"1\" class=\"dataframe\">\n",
       "  <thead>\n",
       "    <tr style=\"text-align: right;\">\n",
       "      <th></th>\n",
       "      <th>PassengerId</th>\n",
       "      <th>Survived</th>\n",
       "      <th>Pclass</th>\n",
       "      <th>Age</th>\n",
       "      <th>SibSp</th>\n",
       "      <th>Parch</th>\n",
       "      <th>Fare</th>\n",
       "    </tr>\n",
       "  </thead>\n",
       "  <tbody>\n",
       "    <tr>\n",
       "      <th>count</th>\n",
       "      <td>891.000000</td>\n",
       "      <td>891.000000</td>\n",
       "      <td>891.000000</td>\n",
       "      <td>714.000000</td>\n",
       "      <td>891.000000</td>\n",
       "      <td>891.000000</td>\n",
       "      <td>891.000000</td>\n",
       "    </tr>\n",
       "    <tr>\n",
       "      <th>mean</th>\n",
       "      <td>446.000000</td>\n",
       "      <td>0.383838</td>\n",
       "      <td>2.308642</td>\n",
       "      <td>29.699118</td>\n",
       "      <td>0.523008</td>\n",
       "      <td>0.381594</td>\n",
       "      <td>32.204208</td>\n",
       "    </tr>\n",
       "    <tr>\n",
       "      <th>std</th>\n",
       "      <td>257.353842</td>\n",
       "      <td>0.486592</td>\n",
       "      <td>0.836071</td>\n",
       "      <td>14.526497</td>\n",
       "      <td>1.102743</td>\n",
       "      <td>0.806057</td>\n",
       "      <td>49.693429</td>\n",
       "    </tr>\n",
       "    <tr>\n",
       "      <th>min</th>\n",
       "      <td>1.000000</td>\n",
       "      <td>0.000000</td>\n",
       "      <td>1.000000</td>\n",
       "      <td>0.420000</td>\n",
       "      <td>0.000000</td>\n",
       "      <td>0.000000</td>\n",
       "      <td>0.000000</td>\n",
       "    </tr>\n",
       "    <tr>\n",
       "      <th>25%</th>\n",
       "      <td>223.500000</td>\n",
       "      <td>0.000000</td>\n",
       "      <td>2.000000</td>\n",
       "      <td>20.125000</td>\n",
       "      <td>0.000000</td>\n",
       "      <td>0.000000</td>\n",
       "      <td>7.910400</td>\n",
       "    </tr>\n",
       "    <tr>\n",
       "      <th>50%</th>\n",
       "      <td>446.000000</td>\n",
       "      <td>0.000000</td>\n",
       "      <td>3.000000</td>\n",
       "      <td>28.000000</td>\n",
       "      <td>0.000000</td>\n",
       "      <td>0.000000</td>\n",
       "      <td>14.454200</td>\n",
       "    </tr>\n",
       "    <tr>\n",
       "      <th>75%</th>\n",
       "      <td>668.500000</td>\n",
       "      <td>1.000000</td>\n",
       "      <td>3.000000</td>\n",
       "      <td>38.000000</td>\n",
       "      <td>1.000000</td>\n",
       "      <td>0.000000</td>\n",
       "      <td>31.000000</td>\n",
       "    </tr>\n",
       "    <tr>\n",
       "      <th>max</th>\n",
       "      <td>891.000000</td>\n",
       "      <td>1.000000</td>\n",
       "      <td>3.000000</td>\n",
       "      <td>80.000000</td>\n",
       "      <td>8.000000</td>\n",
       "      <td>6.000000</td>\n",
       "      <td>512.329200</td>\n",
       "    </tr>\n",
       "  </tbody>\n",
       "</table>\n",
       "</div>"
      ],
      "text/plain": [
       "       PassengerId    Survived      Pclass         Age       SibSp  \\\n",
       "count   891.000000  891.000000  891.000000  714.000000  891.000000   \n",
       "mean    446.000000    0.383838    2.308642   29.699118    0.523008   \n",
       "std     257.353842    0.486592    0.836071   14.526497    1.102743   \n",
       "min       1.000000    0.000000    1.000000    0.420000    0.000000   \n",
       "25%     223.500000    0.000000    2.000000   20.125000    0.000000   \n",
       "50%     446.000000    0.000000    3.000000   28.000000    0.000000   \n",
       "75%     668.500000    1.000000    3.000000   38.000000    1.000000   \n",
       "max     891.000000    1.000000    3.000000   80.000000    8.000000   \n",
       "\n",
       "            Parch        Fare  \n",
       "count  891.000000  891.000000  \n",
       "mean     0.381594   32.204208  \n",
       "std      0.806057   49.693429  \n",
       "min      0.000000    0.000000  \n",
       "25%      0.000000    7.910400  \n",
       "50%      0.000000   14.454200  \n",
       "75%      0.000000   31.000000  \n",
       "max      6.000000  512.329200  "
      ]
     },
     "execution_count": 9,
     "metadata": {},
     "output_type": "execute_result"
    }
   ],
   "source": [
    "titanic.describe()"
   ]
  },
  {
   "cell_type": "markdown",
   "id": "18324eab-3294-42b1-8fc1-75e085fda850",
   "metadata": {},
   "source": [
    "<h4>Ensuring whether all passenger id are unique</h4>"
   ]
  },
  {
   "cell_type": "code",
   "execution_count": 79,
   "id": "e91b0891-58ec-4948-abf6-9145e27b29c4",
   "metadata": {},
   "outputs": [
    {
     "data": {
      "text/plain": [
       "np.int64(0)"
      ]
     },
     "execution_count": 79,
     "metadata": {},
     "output_type": "execute_result"
    }
   ],
   "source": [
    "titanic.PassengerId.duplicated().sum()"
   ]
  },
  {
   "cell_type": "markdown",
   "id": "ba21a808-53d9-4d34-a7e1-72f4d9496d1d",
   "metadata": {},
   "source": [
    "<h4>Validating that only 0 & 1 exists in 'Survived' feature </h4>"
   ]
  },
  {
   "cell_type": "code",
   "execution_count": 81,
   "id": "e518136d-7876-48ac-97a0-934934a96a04",
   "metadata": {},
   "outputs": [
    {
     "data": {
      "text/plain": [
       "array([0, 1])"
      ]
     },
     "execution_count": 81,
     "metadata": {},
     "output_type": "execute_result"
    }
   ],
   "source": [
    "titanic['Survived'].unique()"
   ]
  },
  {
   "cell_type": "markdown",
   "id": "249b5f2f-b78b-4d7a-a3a4-951b21bd054e",
   "metadata": {},
   "source": [
    "<h4>Ensuring only 3 classes exist in 'Pclass' feature</h4>"
   ]
  },
  {
   "cell_type": "code",
   "execution_count": 82,
   "id": "d53fdee3-9f3c-4204-9a3e-000ced14a8bf",
   "metadata": {},
   "outputs": [
    {
     "data": {
      "text/plain": [
       "array([3, 1, 2])"
      ]
     },
     "execution_count": 82,
     "metadata": {},
     "output_type": "execute_result"
    }
   ],
   "source": [
    "titanic.Pclass.unique()"
   ]
  },
  {
   "cell_type": "markdown",
   "id": "10275092-eb7e-4f6e-95f5-70b5618115f2",
   "metadata": {},
   "source": [
    "<h4>Checking which features have null values</h4>"
   ]
  },
  {
   "cell_type": "code",
   "execution_count": 15,
   "id": "c58800d8-18b7-4c14-b7dd-2164b5982b07",
   "metadata": {},
   "outputs": [
    {
     "data": {
      "text/plain": [
       "PassengerId      0\n",
       "Survived         0\n",
       "Pclass           0\n",
       "Name             0\n",
       "Sex              0\n",
       "Age            177\n",
       "SibSp            0\n",
       "Parch            0\n",
       "Ticket           0\n",
       "Fare             0\n",
       "Cabin          687\n",
       "Embarked         2\n",
       "dtype: int64"
      ]
     },
     "execution_count": 15,
     "metadata": {},
     "output_type": "execute_result"
    }
   ],
   "source": [
    "titanic.isnull().sum()"
   ]
  },
  {
   "cell_type": "markdown",
   "id": "174c1d28-7165-411a-9295-6bda22bd7579",
   "metadata": {},
   "source": [
    "<h4>Value Count in each feature</h4>"
   ]
  },
  {
   "cell_type": "code",
   "execution_count": 18,
   "id": "84ff477c-db3d-4041-b2a4-a2aa96a4ceef",
   "metadata": {},
   "outputs": [
    {
     "data": {
      "text/plain": [
       "Siblings_Spouse_aboard\n",
       "0    608\n",
       "1    209\n",
       "2     28\n",
       "4     18\n",
       "3     16\n",
       "8      7\n",
       "5      5\n",
       "Name: count, dtype: int64"
      ]
     },
     "execution_count": 18,
     "metadata": {},
     "output_type": "execute_result"
    }
   ],
   "source": [
    "titanic.Siblings_Spouse_aboard.value_counts()"
   ]
  },
  {
   "cell_type": "code",
   "execution_count": 19,
   "id": "02b4bf68-640d-485e-af92-2d1a312395fc",
   "metadata": {},
   "outputs": [
    {
     "data": {
      "text/plain": [
       "Parent_Children_aboard\n",
       "0    678\n",
       "1    118\n",
       "2     80\n",
       "5      5\n",
       "3      5\n",
       "4      4\n",
       "6      1\n",
       "Name: count, dtype: int64"
      ]
     },
     "execution_count": 19,
     "metadata": {},
     "output_type": "execute_result"
    }
   ],
   "source": [
    "titanic.Parent_Children_aboard.value_counts()"
   ]
  },
  {
   "cell_type": "code",
   "execution_count": null,
   "id": "03215f38-851a-4e05-af6d-354fc747ca9f",
   "metadata": {},
   "outputs": [],
   "source": [
    "sorted(titanic.Fare.unique())"
   ]
  },
  {
   "cell_type": "markdown",
   "id": "8e104c36-7d18-498c-9447-04d540538daa",
   "metadata": {},
   "source": [
    "<h4>OBSERVATION:</h4>\n",
    "<p>From evaluating the dataset, we can clearly see that only 3 features have null values, in which two features have large number of null value entries. Also, we need to convert the data type of 'Age' to int64 from float64.</p>\n",
    "<p>We will handle all these things in the data cleaning phase </p>"
   ]
  },
  {
   "cell_type": "markdown",
   "id": "b9c3ced6-0430-4b09-bd9c-2998a0861489",
   "metadata": {},
   "source": [
    "<h3 style=\"color:blue\">Data Cleaning</h3>\n",
    "\n",
    "<h5>We need to clean our dataset to make it high quality, so that we can see the right patterns and derive insights</h5>"
   ]
  },
  {
   "cell_type": "markdown",
   "id": "49585725-9299-4e72-9ae3-3d9ece989c05",
   "metadata": {},
   "source": [
    "<p><b>Missing value percentage analysis</b></p>\n",
    "<p>The percentage of missing values in the features are calculated. Depending on the obtained result, we will decide either to drop that column or handle it using imputation </p>"
   ]
  },
  {
   "cell_type": "code",
   "execution_count": 18,
   "id": "6ef87cb1-0993-4f93-b8e3-c8051da943b7",
   "metadata": {},
   "outputs": [
    {
     "data": {
      "text/plain": [
       "PassengerId     0.000000\n",
       "Survived        0.000000\n",
       "Pclass          0.000000\n",
       "Name            0.000000\n",
       "Sex             0.000000\n",
       "Age            19.865320\n",
       "SibSp           0.000000\n",
       "Parch           0.000000\n",
       "Ticket          0.000000\n",
       "Fare            0.000000\n",
       "Cabin          77.104377\n",
       "Embarked        0.224467\n",
       "dtype: float64"
      ]
     },
     "execution_count": 18,
     "metadata": {},
     "output_type": "execute_result"
    }
   ],
   "source": [
    "missingPercentage = (titanic.isnull().sum())*100/len(titanic)\n",
    "missingPercentage"
   ]
  },
  {
   "cell_type": "code",
   "execution_count": 26,
   "id": "86326a58-ab15-4d08-bd84-ef54c28d3fea",
   "metadata": {},
   "outputs": [
    {
     "data": {
      "text/html": [
       "<div>\n",
       "<style scoped>\n",
       "    .dataframe tbody tr th:only-of-type {\n",
       "        vertical-align: middle;\n",
       "    }\n",
       "\n",
       "    .dataframe tbody tr th {\n",
       "        vertical-align: top;\n",
       "    }\n",
       "\n",
       "    .dataframe thead th {\n",
       "        text-align: right;\n",
       "    }\n",
       "</style>\n",
       "<table border=\"1\" class=\"dataframe\">\n",
       "  <thead>\n",
       "    <tr style=\"text-align: right;\">\n",
       "      <th></th>\n",
       "      <th>Columns</th>\n",
       "      <th>Missing Percentage</th>\n",
       "    </tr>\n",
       "  </thead>\n",
       "  <tbody>\n",
       "    <tr>\n",
       "      <th>Cabin</th>\n",
       "      <td>Cabin</td>\n",
       "      <td>77.104377</td>\n",
       "    </tr>\n",
       "    <tr>\n",
       "      <th>Age</th>\n",
       "      <td>Age</td>\n",
       "      <td>19.865320</td>\n",
       "    </tr>\n",
       "    <tr>\n",
       "      <th>Embarked</th>\n",
       "      <td>Embarked</td>\n",
       "      <td>0.224467</td>\n",
       "    </tr>\n",
       "  </tbody>\n",
       "</table>\n",
       "</div>"
      ],
      "text/plain": [
       "           Columns  Missing Percentage\n",
       "Cabin        Cabin           77.104377\n",
       "Age            Age           19.865320\n",
       "Embarked  Embarked            0.224467"
      ]
     },
     "execution_count": 26,
     "metadata": {},
     "output_type": "execute_result"
    }
   ],
   "source": [
    "missingDf = pd.DataFrame({'Columns':titanic.columns,'Missing Percentage':missingPercentage})\n",
    "missingDf = missingDf[missingDf['Missing Percentage']>0].sort_values(by=\"Missing Percentage\", ascending = False)\n",
    "missingDf"
   ]
  },
  {
   "cell_type": "markdown",
   "id": "38fd30f3-8bbb-4809-8ff8-2d8c542b971b",
   "metadata": {},
   "source": [
    " #### Obervation: \n",
    "- The `Cabin` column has more than 75% missing values. We'll drop this column.\n",
    "- The `Age` column has about ~20% missing values. So, we'll fill it using median.\n",
    "- The `Embarked` column has only very few missing entries, so we'll fill it using the mode."
   ]
  },
  {
   "cell_type": "markdown",
   "id": "0b8ce8a2-7bee-4ac2-a51d-930da15097fc",
   "metadata": {},
   "source": [
    "<h4>Managing null values</h4>"
   ]
  },
  {
   "cell_type": "code",
   "execution_count": 4,
   "id": "c5741e8f-2629-4a2a-922e-f9e1ff63676a",
   "metadata": {},
   "outputs": [
    {
     "data": {
      "text/plain": [
       "PassengerId    0\n",
       "Survived       0\n",
       "Pclass         0\n",
       "Name           0\n",
       "Sex            0\n",
       "Age            0\n",
       "SibSp          0\n",
       "Parch          0\n",
       "Ticket         0\n",
       "Fare           0\n",
       "Embarked       0\n",
       "dtype: int64"
      ]
     },
     "execution_count": 4,
     "metadata": {},
     "output_type": "execute_result"
    }
   ],
   "source": [
    "\n",
    "titanic = titanic.drop('Cabin', axis =1) # titanic.drop(columns=['Cabin'])\n",
    "\n",
    "titanic['Age'] = titanic['Age'].fillna(titanic['Age'].median())\n",
    "\n",
    "titanic['Embarked'] = titanic['Embarked'].fillna(titanic['Embarked'].mode()[0])\n",
    "\n",
    "titanic.isna().sum()\n",
    "\n"
   ]
  },
  {
   "cell_type": "markdown",
   "id": "5d6b7f5a-dfb6-4b94-a055-cd2deef9eaa3",
   "metadata": {},
   "source": [
    "#### Renaming columns for clarity\n",
    "\n",
    "Renaming `SibSp` to `Siblings_Spouse_aboard` & `Parch` to `Parent_children_aboard`"
   ]
  },
  {
   "cell_type": "code",
   "execution_count": 5,
   "id": "e252ac4a-ad1a-4ef9-8a41-af05d8254528",
   "metadata": {},
   "outputs": [
    {
     "data": {
      "text/html": [
       "<div>\n",
       "<style scoped>\n",
       "    .dataframe tbody tr th:only-of-type {\n",
       "        vertical-align: middle;\n",
       "    }\n",
       "\n",
       "    .dataframe tbody tr th {\n",
       "        vertical-align: top;\n",
       "    }\n",
       "\n",
       "    .dataframe thead th {\n",
       "        text-align: right;\n",
       "    }\n",
       "</style>\n",
       "<table border=\"1\" class=\"dataframe\">\n",
       "  <thead>\n",
       "    <tr style=\"text-align: right;\">\n",
       "      <th></th>\n",
       "      <th>PassengerId</th>\n",
       "      <th>Survived</th>\n",
       "      <th>Pclass</th>\n",
       "      <th>Name</th>\n",
       "      <th>Sex</th>\n",
       "      <th>Age</th>\n",
       "      <th>Siblings_Spouse_aboard</th>\n",
       "      <th>Parent_Children_aboard</th>\n",
       "      <th>Ticket</th>\n",
       "      <th>Fare</th>\n",
       "      <th>Embarked</th>\n",
       "    </tr>\n",
       "  </thead>\n",
       "  <tbody>\n",
       "    <tr>\n",
       "      <th>0</th>\n",
       "      <td>1</td>\n",
       "      <td>0</td>\n",
       "      <td>3</td>\n",
       "      <td>Braund, Mr. Owen Harris</td>\n",
       "      <td>male</td>\n",
       "      <td>22.0</td>\n",
       "      <td>1</td>\n",
       "      <td>0</td>\n",
       "      <td>A/5 21171</td>\n",
       "      <td>7.2500</td>\n",
       "      <td>S</td>\n",
       "    </tr>\n",
       "    <tr>\n",
       "      <th>1</th>\n",
       "      <td>2</td>\n",
       "      <td>1</td>\n",
       "      <td>1</td>\n",
       "      <td>Cumings, Mrs. John Bradley (Florence Briggs Th...</td>\n",
       "      <td>female</td>\n",
       "      <td>38.0</td>\n",
       "      <td>1</td>\n",
       "      <td>0</td>\n",
       "      <td>PC 17599</td>\n",
       "      <td>71.2833</td>\n",
       "      <td>C</td>\n",
       "    </tr>\n",
       "    <tr>\n",
       "      <th>2</th>\n",
       "      <td>3</td>\n",
       "      <td>1</td>\n",
       "      <td>3</td>\n",
       "      <td>Heikkinen, Miss. Laina</td>\n",
       "      <td>female</td>\n",
       "      <td>26.0</td>\n",
       "      <td>0</td>\n",
       "      <td>0</td>\n",
       "      <td>STON/O2. 3101282</td>\n",
       "      <td>7.9250</td>\n",
       "      <td>S</td>\n",
       "    </tr>\n",
       "    <tr>\n",
       "      <th>3</th>\n",
       "      <td>4</td>\n",
       "      <td>1</td>\n",
       "      <td>1</td>\n",
       "      <td>Futrelle, Mrs. Jacques Heath (Lily May Peel)</td>\n",
       "      <td>female</td>\n",
       "      <td>35.0</td>\n",
       "      <td>1</td>\n",
       "      <td>0</td>\n",
       "      <td>113803</td>\n",
       "      <td>53.1000</td>\n",
       "      <td>S</td>\n",
       "    </tr>\n",
       "    <tr>\n",
       "      <th>4</th>\n",
       "      <td>5</td>\n",
       "      <td>0</td>\n",
       "      <td>3</td>\n",
       "      <td>Allen, Mr. William Henry</td>\n",
       "      <td>male</td>\n",
       "      <td>35.0</td>\n",
       "      <td>0</td>\n",
       "      <td>0</td>\n",
       "      <td>373450</td>\n",
       "      <td>8.0500</td>\n",
       "      <td>S</td>\n",
       "    </tr>\n",
       "  </tbody>\n",
       "</table>\n",
       "</div>"
      ],
      "text/plain": [
       "   PassengerId  Survived  Pclass  \\\n",
       "0            1         0       3   \n",
       "1            2         1       1   \n",
       "2            3         1       3   \n",
       "3            4         1       1   \n",
       "4            5         0       3   \n",
       "\n",
       "                                                Name     Sex   Age  \\\n",
       "0                            Braund, Mr. Owen Harris    male  22.0   \n",
       "1  Cumings, Mrs. John Bradley (Florence Briggs Th...  female  38.0   \n",
       "2                             Heikkinen, Miss. Laina  female  26.0   \n",
       "3       Futrelle, Mrs. Jacques Heath (Lily May Peel)  female  35.0   \n",
       "4                           Allen, Mr. William Henry    male  35.0   \n",
       "\n",
       "   Siblings_Spouse_aboard  Parent_Children_aboard            Ticket     Fare  \\\n",
       "0                       1                       0         A/5 21171   7.2500   \n",
       "1                       1                       0          PC 17599  71.2833   \n",
       "2                       0                       0  STON/O2. 3101282   7.9250   \n",
       "3                       1                       0            113803  53.1000   \n",
       "4                       0                       0            373450   8.0500   \n",
       "\n",
       "  Embarked  \n",
       "0        S  \n",
       "1        C  \n",
       "2        S  \n",
       "3        S  \n",
       "4        S  "
      ]
     },
     "execution_count": 5,
     "metadata": {},
     "output_type": "execute_result"
    }
   ],
   "source": [
    "titanic = titanic.rename(columns = {'SibSp': 'Siblings_Spouse_aboard', 'Parch':'Parent_Children_aboard'})\n",
    "titanic.head()"
   ]
  },
  {
   "cell_type": "markdown",
   "id": "190ee5dd-b42d-4677-8bc4-d898d2e32b7e",
   "metadata": {},
   "source": [
    "#### Data Type conversion\n",
    "\n",
    "Converting `Age` from float64 to int64\n",
    "\n",
    "`Sex` from object to category, because it is more memory efficient and faster\n",
    "           `"
   ]
  },
  {
   "cell_type": "code",
   "execution_count": 6,
   "id": "dba2807c-2f9d-421f-86e2-b665a3760988",
   "metadata": {},
   "outputs": [
    {
     "data": {
      "text/plain": [
       "PassengerId                  int64\n",
       "Survived                     int64\n",
       "Pclass                       int64\n",
       "Name                        object\n",
       "Sex                       category\n",
       "Age                          int64\n",
       "Siblings_Spouse_aboard       int64\n",
       "Parent_Children_aboard       int64\n",
       "Ticket                      object\n",
       "Fare                       float64\n",
       "Embarked                    object\n",
       "dtype: object"
      ]
     },
     "execution_count": 6,
     "metadata": {},
     "output_type": "execute_result"
    }
   ],
   "source": [
    "titanic.Age = titanic.Age.astype(int)\n",
    "titanic.Sex = titanic.Sex.astype('category')\n",
    "titanic.dtypes"
   ]
  },
  {
   "cell_type": "markdown",
   "id": "9757609f-dd30-4d55-9737-592cc7bee1ca",
   "metadata": {},
   "source": [
    "#### Outliers in `Age` feature"
   ]
  },
  {
   "cell_type": "code",
   "execution_count": 44,
   "id": "f9620a53-2bd0-4f27-86df-788a8625ce95",
   "metadata": {},
   "outputs": [
    {
     "data": {
      "image/png": "[encoded data removed]",
      "text/plain": [
       "<Figure size 640x480 with 1 Axes>"
      ]
     },
     "metadata": {},
     "output_type": "display_data"
    }
   ],
   "source": [
    "fig, ax = plt.subplots()\n",
    "ax.boxplot(titanic.Age)\n",
    "plt.show()"
   ]
  },
  {
   "cell_type": "markdown",
   "id": "316c5685-9962-4593-8c4e-2f9786e47bbf",
   "metadata": {},
   "source": [
    "<p><b>There are outliers in the 'Age' feature, but we are not removing these outliers, because the Age feature is critical for analyzing survival patterns, and extreme ages are particularly insightful</b></p>"
   ]
  },
  {
   "cell_type": "code",
   "execution_count": 11,
   "id": "9f9e79c1-8fcb-419b-bc7d-f28f9522f232",
   "metadata": {},
   "outputs": [
    {
     "data": {
      "text/html": [
       "<div>\n",
       "<style scoped>\n",
       "    .dataframe tbody tr th:only-of-type {\n",
       "        vertical-align: middle;\n",
       "    }\n",
       "\n",
       "    .dataframe tbody tr th {\n",
       "        vertical-align: top;\n",
       "    }\n",
       "\n",
       "    .dataframe thead th {\n",
       "        text-align: right;\n",
       "    }\n",
       "</style>\n",
       "<table border=\"1\" class=\"dataframe\">\n",
       "  <thead>\n",
       "    <tr style=\"text-align: right;\">\n",
       "      <th></th>\n",
       "      <th>PassengerId</th>\n",
       "      <th>Survived</th>\n",
       "      <th>Pclass</th>\n",
       "      <th>Name</th>\n",
       "      <th>Sex</th>\n",
       "      <th>Age</th>\n",
       "      <th>Siblings_Spouse_aboard</th>\n",
       "      <th>Parent_Children_aboard</th>\n",
       "      <th>Ticket</th>\n",
       "      <th>Fare</th>\n",
       "      <th>Embarked</th>\n",
       "    </tr>\n",
       "  </thead>\n",
       "  <tbody>\n",
       "    <tr>\n",
       "      <th>0</th>\n",
       "      <td>1</td>\n",
       "      <td>0</td>\n",
       "      <td>3</td>\n",
       "      <td>Braund, Mr. Owen Harris</td>\n",
       "      <td>male</td>\n",
       "      <td>22</td>\n",
       "      <td>1</td>\n",
       "      <td>0</td>\n",
       "      <td>A/5 21171</td>\n",
       "      <td>7.2500</td>\n",
       "      <td>S</td>\n",
       "    </tr>\n",
       "    <tr>\n",
       "      <th>1</th>\n",
       "      <td>2</td>\n",
       "      <td>1</td>\n",
       "      <td>1</td>\n",
       "      <td>Cumings, Mrs. John Bradley (Florence Briggs Th...</td>\n",
       "      <td>female</td>\n",
       "      <td>38</td>\n",
       "      <td>1</td>\n",
       "      <td>0</td>\n",
       "      <td>PC 17599</td>\n",
       "      <td>71.2833</td>\n",
       "      <td>C</td>\n",
       "    </tr>\n",
       "    <tr>\n",
       "      <th>2</th>\n",
       "      <td>3</td>\n",
       "      <td>1</td>\n",
       "      <td>3</td>\n",
       "      <td>Heikkinen, Miss. Laina</td>\n",
       "      <td>female</td>\n",
       "      <td>26</td>\n",
       "      <td>0</td>\n",
       "      <td>0</td>\n",
       "      <td>STON/O2. 3101282</td>\n",
       "      <td>7.9250</td>\n",
       "      <td>S</td>\n",
       "    </tr>\n",
       "    <tr>\n",
       "      <th>3</th>\n",
       "      <td>4</td>\n",
       "      <td>1</td>\n",
       "      <td>1</td>\n",
       "      <td>Futrelle, Mrs. Jacques Heath (Lily May Peel)</td>\n",
       "      <td>female</td>\n",
       "      <td>35</td>\n",
       "      <td>1</td>\n",
       "      <td>0</td>\n",
       "      <td>113803</td>\n",
       "      <td>53.1000</td>\n",
       "      <td>S</td>\n",
       "    </tr>\n",
       "    <tr>\n",
       "      <th>4</th>\n",
       "      <td>5</td>\n",
       "      <td>0</td>\n",
       "      <td>3</td>\n",
       "      <td>Allen, Mr. William Henry</td>\n",
       "      <td>male</td>\n",
       "      <td>35</td>\n",
       "      <td>0</td>\n",
       "      <td>0</td>\n",
       "      <td>373450</td>\n",
       "      <td>8.0500</td>\n",
       "      <td>S</td>\n",
       "    </tr>\n",
       "  </tbody>\n",
       "</table>\n",
       "</div>"
      ],
      "text/plain": [
       "   PassengerId  Survived  Pclass  \\\n",
       "0            1         0       3   \n",
       "1            2         1       1   \n",
       "2            3         1       3   \n",
       "3            4         1       1   \n",
       "4            5         0       3   \n",
       "\n",
       "                                                Name     Sex  Age  \\\n",
       "0                            Braund, Mr. Owen Harris    male   22   \n",
       "1  Cumings, Mrs. John Bradley (Florence Briggs Th...  female   38   \n",
       "2                             Heikkinen, Miss. Laina  female   26   \n",
       "3       Futrelle, Mrs. Jacques Heath (Lily May Peel)  female   35   \n",
       "4                           Allen, Mr. William Henry    male   35   \n",
       "\n",
       "   Siblings_Spouse_aboard  Parent_Children_aboard            Ticket     Fare  \\\n",
       "0                       1                       0         A/5 21171   7.2500   \n",
       "1                       1                       0          PC 17599  71.2833   \n",
       "2                       0                       0  STON/O2. 3101282   7.9250   \n",
       "3                       1                       0            113803  53.1000   \n",
       "4                       0                       0            373450   8.0500   \n",
       "\n",
       "  Embarked  \n",
       "0        S  \n",
       "1        C  \n",
       "2        S  \n",
       "3        S  \n",
       "4        S  "
      ]
     },
     "execution_count": 11,
     "metadata": {},
     "output_type": "execute_result"
    }
   ],
   "source": [
    "titanic.head()"
   ]
  },
  {
   "cell_type": "markdown",
   "id": "edb794d5-f208-46a4-909e-5db29fa66e32",
   "metadata": {},
   "source": [
    "<h3 style=\"color:blue\">Feature Engineering</h3>"
   ]
  },
  {
   "cell_type": "markdown",
   "id": "24369566-70c9-46da-9c3e-58f6ec33e7c3",
   "metadata": {},
   "source": [
    "\n",
    "<h5>Here we are going to extract new features from the existing data to gain more insights and improve the quality of analysis</h5>"
   ]
  },
  {
   "cell_type": "markdown",
   "id": "2171c514-393b-4a92-8333-810a049f99b0",
   "metadata": {},
   "source": [
    "<h4>Extracting Title from Name</h4>"
   ]
  },
  {
   "cell_type": "markdown",
   "id": "f334ca2d-35bb-4883-94bd-b5e0fd87221a",
   "metadata": {},
   "source": [
    "\n",
    "<p>We'll extract titles such as Mr, Mrs, Miss, etc., from the 'Name' column. These titles can give us insights about passenger age groups, gender & social status."
   ]
  },
  {
   "cell_type": "code",
   "execution_count": 7,
   "id": "140c613a-7d1a-4071-9530-5dbfd606dd46",
   "metadata": {},
   "outputs": [
    {
     "data": {
      "text/html": [
       "<div>\n",
       "<style scoped>\n",
       "    .dataframe tbody tr th:only-of-type {\n",
       "        vertical-align: middle;\n",
       "    }\n",
       "\n",
       "    .dataframe tbody tr th {\n",
       "        vertical-align: top;\n",
       "    }\n",
       "\n",
       "    .dataframe thead th {\n",
       "        text-align: right;\n",
       "    }\n",
       "</style>\n",
       "<table border=\"1\" class=\"dataframe\">\n",
       "  <thead>\n",
       "    <tr style=\"text-align: right;\">\n",
       "      <th></th>\n",
       "      <th>PassengerId</th>\n",
       "      <th>Survived</th>\n",
       "      <th>Pclass</th>\n",
       "      <th>Name</th>\n",
       "      <th>Sex</th>\n",
       "      <th>Age</th>\n",
       "      <th>Siblings_Spouse_aboard</th>\n",
       "      <th>Parent_Children_aboard</th>\n",
       "      <th>Ticket</th>\n",
       "      <th>Fare</th>\n",
       "      <th>Embarked</th>\n",
       "      <th>Title</th>\n",
       "    </tr>\n",
       "  </thead>\n",
       "  <tbody>\n",
       "    <tr>\n",
       "      <th>0</th>\n",
       "      <td>1</td>\n",
       "      <td>0</td>\n",
       "      <td>3</td>\n",
       "      <td>Braund, Mr. Owen Harris</td>\n",
       "      <td>male</td>\n",
       "      <td>22</td>\n",
       "      <td>1</td>\n",
       "      <td>0</td>\n",
       "      <td>A/5 21171</td>\n",
       "      <td>7.2500</td>\n",
       "      <td>S</td>\n",
       "      <td>Mr</td>\n",
       "    </tr>\n",
       "    <tr>\n",
       "      <th>1</th>\n",
       "      <td>2</td>\n",
       "      <td>1</td>\n",
       "      <td>1</td>\n",
       "      <td>Cumings, Mrs. John Bradley (Florence Briggs Th...</td>\n",
       "      <td>female</td>\n",
       "      <td>38</td>\n",
       "      <td>1</td>\n",
       "      <td>0</td>\n",
       "      <td>PC 17599</td>\n",
       "      <td>71.2833</td>\n",
       "      <td>C</td>\n",
       "      <td>Mrs</td>\n",
       "    </tr>\n",
       "    <tr>\n",
       "      <th>2</th>\n",
       "      <td>3</td>\n",
       "      <td>1</td>\n",
       "      <td>3</td>\n",
       "      <td>Heikkinen, Miss. Laina</td>\n",
       "      <td>female</td>\n",
       "      <td>26</td>\n",
       "      <td>0</td>\n",
       "      <td>0</td>\n",
       "      <td>STON/O2. 3101282</td>\n",
       "      <td>7.9250</td>\n",
       "      <td>S</td>\n",
       "      <td>Miss</td>\n",
       "    </tr>\n",
       "    <tr>\n",
       "      <th>3</th>\n",
       "      <td>4</td>\n",
       "      <td>1</td>\n",
       "      <td>1</td>\n",
       "      <td>Futrelle, Mrs. Jacques Heath (Lily May Peel)</td>\n",
       "      <td>female</td>\n",
       "      <td>35</td>\n",
       "      <td>1</td>\n",
       "      <td>0</td>\n",
       "      <td>113803</td>\n",
       "      <td>53.1000</td>\n",
       "      <td>S</td>\n",
       "      <td>Mrs</td>\n",
       "    </tr>\n",
       "    <tr>\n",
       "      <th>4</th>\n",
       "      <td>5</td>\n",
       "      <td>0</td>\n",
       "      <td>3</td>\n",
       "      <td>Allen, Mr. William Henry</td>\n",
       "      <td>male</td>\n",
       "      <td>35</td>\n",
       "      <td>0</td>\n",
       "      <td>0</td>\n",
       "      <td>373450</td>\n",
       "      <td>8.0500</td>\n",
       "      <td>S</td>\n",
       "      <td>Mr</td>\n",
       "    </tr>\n",
       "  </tbody>\n",
       "</table>\n",
       "</div>"
      ],
      "text/plain": [
       "   PassengerId  Survived  Pclass  \\\n",
       "0            1         0       3   \n",
       "1            2         1       1   \n",
       "2            3         1       3   \n",
       "3            4         1       1   \n",
       "4            5         0       3   \n",
       "\n",
       "                                                Name     Sex  Age  \\\n",
       "0                            Braund, Mr. Owen Harris    male   22   \n",
       "1  Cumings, Mrs. John Bradley (Florence Briggs Th...  female   38   \n",
       "2                             Heikkinen, Miss. Laina  female   26   \n",
       "3       Futrelle, Mrs. Jacques Heath (Lily May Peel)  female   35   \n",
       "4                           Allen, Mr. William Henry    male   35   \n",
       "\n",
       "   Siblings_Spouse_aboard  Parent_Children_aboard            Ticket     Fare  \\\n",
       "0                       1                       0         A/5 21171   7.2500   \n",
       "1                       1                       0          PC 17599  71.2833   \n",
       "2                       0                       0  STON/O2. 3101282   7.9250   \n",
       "3                       1                       0            113803  53.1000   \n",
       "4                       0                       0            373450   8.0500   \n",
       "\n",
       "  Embarked  Title  \n",
       "0        S     Mr  \n",
       "1        C    Mrs  \n",
       "2        S   Miss  \n",
       "3        S    Mrs  \n",
       "4        S     Mr  "
      ]
     },
     "execution_count": 7,
     "metadata": {},
     "output_type": "execute_result"
    }
   ],
   "source": [
    "titanic['Title'] = titanic['Name'].apply(lambda x: x.split(',')[1].split('.')[0])\n",
    "titanic.head()"
   ]
  },
  {
   "cell_type": "markdown",
   "id": "a9db6eb9-e80f-4933-a69d-550fa57b31d3",
   "metadata": {},
   "source": [
    "<h4>Encoding the SEX column</h4>\n",
    "\n",
    "We will convert the categorical `SEX` feature into binary value(0 & 1). \n",
    "\n",
    "0 -> Male\n",
    "\n",
    "1 -> Female"
   ]
  },
  {
   "cell_type": "code",
   "execution_count": 11,
   "id": "c080b775-942c-4cd9-93d2-d56326e1a2ad",
   "metadata": {},
   "outputs": [
    {
     "data": {
      "text/html": [
       "<div>\n",
       "<style scoped>\n",
       "    .dataframe tbody tr th:only-of-type {\n",
       "        vertical-align: middle;\n",
       "    }\n",
       "\n",
       "    .dataframe tbody tr th {\n",
       "        vertical-align: top;\n",
       "    }\n",
       "\n",
       "    .dataframe thead th {\n",
       "        text-align: right;\n",
       "    }\n",
       "</style>\n",
       "<table border=\"1\" class=\"dataframe\">\n",
       "  <thead>\n",
       "    <tr style=\"text-align: right;\">\n",
       "      <th></th>\n",
       "      <th>PassengerId</th>\n",
       "      <th>Survived</th>\n",
       "      <th>Pclass</th>\n",
       "      <th>Name</th>\n",
       "      <th>Sex</th>\n",
       "      <th>Age</th>\n",
       "      <th>Siblings_Spouse_aboard</th>\n",
       "      <th>Parent_Children_aboard</th>\n",
       "      <th>Ticket</th>\n",
       "      <th>Fare</th>\n",
       "      <th>Embarked</th>\n",
       "      <th>Title</th>\n",
       "      <th>Family_count</th>\n",
       "      <th>Encoded_Sex</th>\n",
       "    </tr>\n",
       "  </thead>\n",
       "  <tbody>\n",
       "    <tr>\n",
       "      <th>0</th>\n",
       "      <td>1</td>\n",
       "      <td>0</td>\n",
       "      <td>3</td>\n",
       "      <td>Braund, Mr. Owen Harris</td>\n",
       "      <td>male</td>\n",
       "      <td>22</td>\n",
       "      <td>1</td>\n",
       "      <td>0</td>\n",
       "      <td>A/5 21171</td>\n",
       "      <td>7.2500</td>\n",
       "      <td>S</td>\n",
       "      <td>Mr</td>\n",
       "      <td>1</td>\n",
       "      <td>0</td>\n",
       "    </tr>\n",
       "    <tr>\n",
       "      <th>1</th>\n",
       "      <td>2</td>\n",
       "      <td>1</td>\n",
       "      <td>1</td>\n",
       "      <td>Cumings, Mrs. John Bradley (Florence Briggs Th...</td>\n",
       "      <td>female</td>\n",
       "      <td>38</td>\n",
       "      <td>1</td>\n",
       "      <td>0</td>\n",
       "      <td>PC 17599</td>\n",
       "      <td>71.2833</td>\n",
       "      <td>C</td>\n",
       "      <td>Mrs</td>\n",
       "      <td>1</td>\n",
       "      <td>1</td>\n",
       "    </tr>\n",
       "    <tr>\n",
       "      <th>2</th>\n",
       "      <td>3</td>\n",
       "      <td>1</td>\n",
       "      <td>3</td>\n",
       "      <td>Heikkinen, Miss. Laina</td>\n",
       "      <td>female</td>\n",
       "      <td>26</td>\n",
       "      <td>0</td>\n",
       "      <td>0</td>\n",
       "      <td>STON/O2. 3101282</td>\n",
       "      <td>7.9250</td>\n",
       "      <td>S</td>\n",
       "      <td>Miss</td>\n",
       "      <td>0</td>\n",
       "      <td>1</td>\n",
       "    </tr>\n",
       "    <tr>\n",
       "      <th>3</th>\n",
       "      <td>4</td>\n",
       "      <td>1</td>\n",
       "      <td>1</td>\n",
       "      <td>Futrelle, Mrs. Jacques Heath (Lily May Peel)</td>\n",
       "      <td>female</td>\n",
       "      <td>35</td>\n",
       "      <td>1</td>\n",
       "      <td>0</td>\n",
       "      <td>113803</td>\n",
       "      <td>53.1000</td>\n",
       "      <td>S</td>\n",
       "      <td>Mrs</td>\n",
       "      <td>1</td>\n",
       "      <td>1</td>\n",
       "    </tr>\n",
       "    <tr>\n",
       "      <th>4</th>\n",
       "      <td>5</td>\n",
       "      <td>0</td>\n",
       "      <td>3</td>\n",
       "      <td>Allen, Mr. William Henry</td>\n",
       "      <td>male</td>\n",
       "      <td>35</td>\n",
       "      <td>0</td>\n",
       "      <td>0</td>\n",
       "      <td>373450</td>\n",
       "      <td>8.0500</td>\n",
       "      <td>S</td>\n",
       "      <td>Mr</td>\n",
       "      <td>0</td>\n",
       "      <td>0</td>\n",
       "    </tr>\n",
       "  </tbody>\n",
       "</table>\n",
       "</div>"
      ],
      "text/plain": [
       "   PassengerId  Survived  Pclass  \\\n",
       "0            1         0       3   \n",
       "1            2         1       1   \n",
       "2            3         1       3   \n",
       "3            4         1       1   \n",
       "4            5         0       3   \n",
       "\n",
       "                                                Name     Sex  Age  \\\n",
       "0                            Braund, Mr. Owen Harris    male   22   \n",
       "1  Cumings, Mrs. John Bradley (Florence Briggs Th...  female   38   \n",
       "2                             Heikkinen, Miss. Laina  female   26   \n",
       "3       Futrelle, Mrs. Jacques Heath (Lily May Peel)  female   35   \n",
       "4                           Allen, Mr. William Henry    male   35   \n",
       "\n",
       "   Siblings_Spouse_aboard  Parent_Children_aboard            Ticket     Fare  \\\n",
       "0                       1                       0         A/5 21171   7.2500   \n",
       "1                       1                       0          PC 17599  71.2833   \n",
       "2                       0                       0  STON/O2. 3101282   7.9250   \n",
       "3                       1                       0            113803  53.1000   \n",
       "4                       0                       0            373450   8.0500   \n",
       "\n",
       "  Embarked  Title  Family_count Encoded_Sex  \n",
       "0        S     Mr             1           0  \n",
       "1        C    Mrs             1           1  \n",
       "2        S   Miss             0           1  \n",
       "3        S    Mrs             1           1  \n",
       "4        S     Mr             0           0  "
      ]
     },
     "execution_count": 11,
     "metadata": {},
     "output_type": "execute_result"
    }
   ],
   "source": [
    "# titanic['Encoded Sex'] = titanic['Sex'].apply(lambda x:0 if x=='male' else 1)\n",
    "# OR \n",
    "titanic['Encoded_Sex'] = titanic['Sex'].map({'male':0, 'female':1})\n",
    "titanic.head()"
   ]
  },
  {
   "cell_type": "markdown",
   "id": "235cd5ba-68f8-46b3-8f23-3ff01d564904",
   "metadata": {},
   "source": [
    "<h4>Family Members Count</h4>\n",
    "\n",
    "The count of family members aboard is calculated by taking the sum of parent, children, spouse & siblings aboard"
   ]
  },
  {
   "cell_type": "code",
   "execution_count": 12,
   "id": "44ead9ba-efaa-4adc-adee-5e7b87d741ea",
   "metadata": {},
   "outputs": [
    {
     "data": {
      "text/html": [
       "<div>\n",
       "<style scoped>\n",
       "    .dataframe tbody tr th:only-of-type {\n",
       "        vertical-align: middle;\n",
       "    }\n",
       "\n",
       "    .dataframe tbody tr th {\n",
       "        vertical-align: top;\n",
       "    }\n",
       "\n",
       "    .dataframe thead th {\n",
       "        text-align: right;\n",
       "    }\n",
       "</style>\n",
       "<table border=\"1\" class=\"dataframe\">\n",
       "  <thead>\n",
       "    <tr style=\"text-align: right;\">\n",
       "      <th></th>\n",
       "      <th>PassengerId</th>\n",
       "      <th>Survived</th>\n",
       "      <th>Pclass</th>\n",
       "      <th>Name</th>\n",
       "      <th>Sex</th>\n",
       "      <th>Age</th>\n",
       "      <th>Siblings_Spouse_aboard</th>\n",
       "      <th>Parent_Children_aboard</th>\n",
       "      <th>Ticket</th>\n",
       "      <th>Fare</th>\n",
       "      <th>Embarked</th>\n",
       "      <th>Title</th>\n",
       "      <th>Family_count</th>\n",
       "      <th>Encoded_Sex</th>\n",
       "    </tr>\n",
       "  </thead>\n",
       "  <tbody>\n",
       "    <tr>\n",
       "      <th>886</th>\n",
       "      <td>887</td>\n",
       "      <td>0</td>\n",
       "      <td>2</td>\n",
       "      <td>Montvila, Rev. Juozas</td>\n",
       "      <td>male</td>\n",
       "      <td>27</td>\n",
       "      <td>0</td>\n",
       "      <td>0</td>\n",
       "      <td>211536</td>\n",
       "      <td>13.00</td>\n",
       "      <td>S</td>\n",
       "      <td>Rev</td>\n",
       "      <td>0</td>\n",
       "      <td>0</td>\n",
       "    </tr>\n",
       "    <tr>\n",
       "      <th>887</th>\n",
       "      <td>888</td>\n",
       "      <td>1</td>\n",
       "      <td>1</td>\n",
       "      <td>Graham, Miss. Margaret Edith</td>\n",
       "      <td>female</td>\n",
       "      <td>19</td>\n",
       "      <td>0</td>\n",
       "      <td>0</td>\n",
       "      <td>112053</td>\n",
       "      <td>30.00</td>\n",
       "      <td>S</td>\n",
       "      <td>Miss</td>\n",
       "      <td>0</td>\n",
       "      <td>1</td>\n",
       "    </tr>\n",
       "    <tr>\n",
       "      <th>888</th>\n",
       "      <td>889</td>\n",
       "      <td>0</td>\n",
       "      <td>3</td>\n",
       "      <td>Johnston, Miss. Catherine Helen \"Carrie\"</td>\n",
       "      <td>female</td>\n",
       "      <td>28</td>\n",
       "      <td>1</td>\n",
       "      <td>2</td>\n",
       "      <td>W./C. 6607</td>\n",
       "      <td>23.45</td>\n",
       "      <td>S</td>\n",
       "      <td>Miss</td>\n",
       "      <td>3</td>\n",
       "      <td>1</td>\n",
       "    </tr>\n",
       "    <tr>\n",
       "      <th>889</th>\n",
       "      <td>890</td>\n",
       "      <td>1</td>\n",
       "      <td>1</td>\n",
       "      <td>Behr, Mr. Karl Howell</td>\n",
       "      <td>male</td>\n",
       "      <td>26</td>\n",
       "      <td>0</td>\n",
       "      <td>0</td>\n",
       "      <td>111369</td>\n",
       "      <td>30.00</td>\n",
       "      <td>C</td>\n",
       "      <td>Mr</td>\n",
       "      <td>0</td>\n",
       "      <td>0</td>\n",
       "    </tr>\n",
       "    <tr>\n",
       "      <th>890</th>\n",
       "      <td>891</td>\n",
       "      <td>0</td>\n",
       "      <td>3</td>\n",
       "      <td>Dooley, Mr. Patrick</td>\n",
       "      <td>male</td>\n",
       "      <td>32</td>\n",
       "      <td>0</td>\n",
       "      <td>0</td>\n",
       "      <td>370376</td>\n",
       "      <td>7.75</td>\n",
       "      <td>Q</td>\n",
       "      <td>Mr</td>\n",
       "      <td>0</td>\n",
       "      <td>0</td>\n",
       "    </tr>\n",
       "  </tbody>\n",
       "</table>\n",
       "</div>"
      ],
      "text/plain": [
       "     PassengerId  Survived  Pclass                                      Name  \\\n",
       "886          887         0       2                     Montvila, Rev. Juozas   \n",
       "887          888         1       1              Graham, Miss. Margaret Edith   \n",
       "888          889         0       3  Johnston, Miss. Catherine Helen \"Carrie\"   \n",
       "889          890         1       1                     Behr, Mr. Karl Howell   \n",
       "890          891         0       3                       Dooley, Mr. Patrick   \n",
       "\n",
       "        Sex  Age  Siblings_Spouse_aboard  Parent_Children_aboard      Ticket  \\\n",
       "886    male   27                       0                       0      211536   \n",
       "887  female   19                       0                       0      112053   \n",
       "888  female   28                       1                       2  W./C. 6607   \n",
       "889    male   26                       0                       0      111369   \n",
       "890    male   32                       0                       0      370376   \n",
       "\n",
       "      Fare Embarked  Title  Family_count Encoded_Sex  \n",
       "886  13.00        S    Rev             0           0  \n",
       "887  30.00        S   Miss             0           1  \n",
       "888  23.45        S   Miss             3           1  \n",
       "889  30.00        C     Mr             0           0  \n",
       "890   7.75        Q     Mr             0           0  "
      ]
     },
     "execution_count": 12,
     "metadata": {},
     "output_type": "execute_result"
    }
   ],
   "source": [
    "titanic['Family_count'] = titanic.Siblings_Spouse_aboard + titanic.Parent_Children_aboard\n",
    "titanic.tail()"
   ]
  },
  {
   "cell_type": "markdown",
   "id": "b88adf9a-c6d9-4f66-8883-8e551dc0f01c",
   "metadata": {},
   "source": [
    "<h2 style=\"color:blue\">Exploratory Data Analysis</h2>\n",
    "<p>Now that the dataset is cleaned and preprocessed, we'll explore it through visualizations to understand patterns and relationships between features like Survival, Age, Sex & Pclass </p>"
   ]
  },
  {
   "cell_type": "markdown",
   "id": "5d86fb43-cccc-4301-8ae1-e702f694093c",
   "metadata": {},
   "source": [
    "<h3>Overall Survival Count</h3>\n",
    "\n",
    "Let's start by looking at how many passengers survived and how many did not"
   ]
  },
  {
   "cell_type": "code",
   "execution_count": 13,
   "id": "ba684824-24a1-4a6b-9e2f-7e278988039c",
   "metadata": {},
   "outputs": [
    {
     "name": "stdout",
     "output_type": "stream",
     "text": [
      "Survived: 342\n",
      "Died: 549\n"
     ]
    }
   ],
   "source": [
    "survivalCounts = titanic.Survived.value_counts()\n",
    "print(f\"Survived: {survivalCounts[1]}\\nDied: {survivalCounts[0]}\")"
   ]
  },
  {
   "cell_type": "code",
   "execution_count": 14,
   "id": "6817bcca-fa78-4b28-8d40-868dbf6ff974",
   "metadata": {},
   "outputs": [
    {
     "data": {
      "image/png": "[encoded data removed]",
      "text/plain": [
       "<Figure size 640x480 with 1 Axes>"
      ]
     },
     "metadata": {},
     "output_type": "display_data"
    }
   ],
   "source": [
    "labels = ['Not Survived', 'Survived']\n",
    "plt.pie(survivalCounts, labels=[f'{label}:{count}' for label, count in zip(labels, survivalCounts)], autopct='%1.1f%%')\n",
    "plt.title(\"Survival Count\")\n",
    "\n",
    "plt.show()"
   ]
  },
  {
   "cell_type": "markdown",
   "id": "a1456867-2281-4051-ad91-7cf6a19fa709",
   "metadata": {},
   "source": [
    "<h5>OBSERVATION:</h5>\n",
    "\n",
    "<P>From the pie chart above, we can clearly see that majority of the passengers in the Titanic ship surrendered to death. This gives us an initial sense of how imbalanced the survival distribution is.</P>"
   ]
  },
  {
   "cell_type": "markdown",
   "id": "8f0c7762-959f-428b-906b-699f40d91e65",
   "metadata": {},
   "source": [
    "<h3>Survival Count by Gender</h3>\n",
    "\n",
    "We will now visualize how survival is varied between male & female passengers"
   ]
  },
  {
   "cell_type": "code",
   "execution_count": 72,
   "id": "2d8843bf-c40c-436f-b98b-68e626073b32",
   "metadata": {},
   "outputs": [
    {
     "data": {
      "text/html": [
       "<div>\n",
       "<style scoped>\n",
       "    .dataframe tbody tr th:only-of-type {\n",
       "        vertical-align: middle;\n",
       "    }\n",
       "\n",
       "    .dataframe tbody tr th {\n",
       "        vertical-align: top;\n",
       "    }\n",
       "\n",
       "    .dataframe thead th {\n",
       "        text-align: right;\n",
       "    }\n",
       "</style>\n",
       "<table border=\"1\" class=\"dataframe\">\n",
       "  <thead>\n",
       "    <tr style=\"text-align: right;\">\n",
       "      <th>Survived</th>\n",
       "      <th>0</th>\n",
       "      <th>1</th>\n",
       "    </tr>\n",
       "    <tr>\n",
       "      <th>Sex</th>\n",
       "      <th></th>\n",
       "      <th></th>\n",
       "    </tr>\n",
       "  </thead>\n",
       "  <tbody>\n",
       "    <tr>\n",
       "      <th>female</th>\n",
       "      <td>81</td>\n",
       "      <td>233</td>\n",
       "    </tr>\n",
       "    <tr>\n",
       "      <th>male</th>\n",
       "      <td>468</td>\n",
       "      <td>109</td>\n",
       "    </tr>\n",
       "  </tbody>\n",
       "</table>\n",
       "</div>"
      ],
      "text/plain": [
       "Survived    0    1\n",
       "Sex               \n",
       "female     81  233\n",
       "male      468  109"
      ]
     },
     "execution_count": 72,
     "metadata": {},
     "output_type": "execute_result"
    }
   ],
   "source": [
    "surv_Gender = titanic.groupby(['Sex','Survived'],observed=False).size().unstack()\n",
    "# size() -> Returns the count of rows in each group.\n",
    "# unstack() -> Converts the innermost index level (Survived) into columns instead of being part of the index.\n",
    "\n",
    "surv_Gender"
   ]
  },
  {
   "cell_type": "code",
   "execution_count": 89,
   "id": "7ca0f5d3-7aea-4304-8159-dea544f0535e",
   "metadata": {},
   "outputs": [
    {
     "data": {
      "image/png": "[encoded data removed]",
      "text/plain": [
       "<Figure size 640x480 with 1 Axes>"
      ]
     },
     "metadata": {},
     "output_type": "display_data"
    }
   ],
   "source": [
    "fig, axs= plt.subplots()\n",
    "axs.pie(surv_Gender.values.flatten(), labels=[\"Female Not Survived\",\"Female Survived\",\"Male Not Survived\",\"Male Survived\"], autopct = '%1.1f%%')\n",
    "plt.show()"
   ]
  },
  {
   "cell_type": "markdown",
   "id": "0df2c4fe-a0d5-4437-ac45-cd8f35d4cd4e",
   "metadata": {},
   "source": [
    "<h5>OBSERVATION:</h5>\n",
    "\n",
    "<P>From the above chart it is clear that, a woman had higher probability of survival than a man. </P>"
   ]
  },
  {
   "cell_type": "markdown",
   "id": "f1d43658-22e0-46a0-82f2-a418fcc96c16",
   "metadata": {},
   "source": [
    "<h4>Survival Count based on Wealth(Passenger class)</h4>\n",
    "<p>We are going to explore how the economic status of an individual influenced the survival of Titanic disaster</p>"
   ]
  },
  {
   "cell_type": "code",
   "execution_count": 84,
   "id": "804769d1-36a9-4aa9-b457-90185b37c9ba",
   "metadata": {},
   "outputs": [
    {
     "data": {
      "text/html": [
       "<div>\n",
       "<style scoped>\n",
       "    .dataframe tbody tr th:only-of-type {\n",
       "        vertical-align: middle;\n",
       "    }\n",
       "\n",
       "    .dataframe tbody tr th {\n",
       "        vertical-align: top;\n",
       "    }\n",
       "\n",
       "    .dataframe thead th {\n",
       "        text-align: right;\n",
       "    }\n",
       "</style>\n",
       "<table border=\"1\" class=\"dataframe\">\n",
       "  <thead>\n",
       "    <tr style=\"text-align: right;\">\n",
       "      <th>Pclass</th>\n",
       "      <th>1</th>\n",
       "      <th>2</th>\n",
       "      <th>3</th>\n",
       "    </tr>\n",
       "    <tr>\n",
       "      <th>Survived</th>\n",
       "      <th></th>\n",
       "      <th></th>\n",
       "      <th></th>\n",
       "    </tr>\n",
       "  </thead>\n",
       "  <tbody>\n",
       "    <tr>\n",
       "      <th>0</th>\n",
       "      <td>80</td>\n",
       "      <td>97</td>\n",
       "      <td>372</td>\n",
       "    </tr>\n",
       "    <tr>\n",
       "      <th>1</th>\n",
       "      <td>136</td>\n",
       "      <td>87</td>\n",
       "      <td>119</td>\n",
       "    </tr>\n",
       "  </tbody>\n",
       "</table>\n",
       "</div>"
      ],
      "text/plain": [
       "Pclass      1   2    3\n",
       "Survived              \n",
       "0          80  97  372\n",
       "1         136  87  119"
      ]
     },
     "execution_count": 84,
     "metadata": {},
     "output_type": "execute_result"
    }
   ],
   "source": [
    "surv_wealth = titanic.groupby(['Survived', 'Pclass']).size().unstack()\n",
    "surv_wealth"
   ]
  },
  {
   "cell_type": "code",
   "execution_count": 90,
   "id": "37a368dd-b5a6-483a-add8-5f3644b4ffeb",
   "metadata": {},
   "outputs": [
    {
     "data": {
      "image/png": "[encoded data removed]",
      "text/plain": [
       "<Figure size 640x480 with 1 Axes>"
      ]
     },
     "metadata": {},
     "output_type": "display_data"
    }
   ],
   "source": [
    "fig, axs = plt.subplots()\n",
    "axs.pie(surv_wealth.values.flatten(), labels=['1st class not survived', '2nd class not survived', '3rd class not survived'\n",
    "                                              , '1st class survived', '2nd class survived', '3rd class survived'], autopct = '%1.1f%%')\n",
    "plt.show()"
   ]
  },
  {
   "cell_type": "markdown",
   "id": "d8c068bf-fdf8-4ba9-b097-b6df70194589",
   "metadata": {},
   "source": [
    "<h5>OBSERVATION:</h5>\n",
    "<p>The above pie chart clearly shows that being in 1st class gave more priority to being rescued.</p>"
   ]
  },
  {
   "cell_type": "markdown",
   "id": "2097d2cd-1811-420d-aff0-48aaf512ff27",
   "metadata": {},
   "source": [
    "<h4>Distribution of ages of passengers in the ship</h4>\n",
    "<p>Let's us see how the age of passengers is distributed</p>"
   ]
  },
  {
   "cell_type": "code",
   "execution_count": 205,
   "id": "51faab66-c7c5-424e-bb5c-db9d7b126cd8",
   "metadata": {},
   "outputs": [
    {
     "data": {
      "image/png": "[encoded data removed]",
      "text/plain": [
       "<Figure size 640x480 with 1 Axes>"
      ]
     },
     "metadata": {},
     "output_type": "display_data"
    }
   ],
   "source": [
    "plt.hist(titanic.Age, edgecolor = 'black',bins=20)\n",
    "plt.show()"
   ]
  },
  {
   "cell_type": "markdown",
   "id": "5b487292-774c-4ef4-9562-bbe7c0b5eaa1",
   "metadata": {},
   "source": [
    "<h4>OBSERVATION:</h4>\n",
    "<p>From the chart, it is clearly visible that the young adults were comparatively more in the ship.</p>"
   ]
  },
  {
   "cell_type": "markdown",
   "id": "564ddcdb-9509-404d-a8f7-213129499003",
   "metadata": {},
   "source": [
    "<h4>Distribution of ages of people who survived </h4>\n",
    "<p>The age distribution of people who were rescued is given below:</p>"
   ]
  },
  {
   "cell_type": "code",
   "execution_count": 15,
   "id": "8603bae1-3e34-4688-a577-cac667950ead",
   "metadata": {},
   "outputs": [
    {
     "data": {
      "image/png": "[encoded data removed]",
      "text/plain": [
       "<Figure size 640x480 with 1 Axes>"
      ]
     },
     "metadata": {},
     "output_type": "display_data"
    }
   ],
   "source": [
    "survivors = titanic[titanic.Survived == 1]\n",
    "died = titanic[titanic.Survived == 0]\n",
    "age_survived = survivors.Age\n",
    "plt.hist(age_survived, color='green',edgecolor='black',bins=20)\n",
    "plt.show()"
   ]
  },
  {
   "cell_type": "markdown",
   "id": "b4a21f08-d8a2-456c-afa7-f1d218ae9333",
   "metadata": {},
   "source": [
    "<h5>OBSERVATION:</h5>\n",
    "<p>The distribution of ages of people who survived look almost similar to that of passengers of the ship.</p>"
   ]
  },
  {
   "cell_type": "markdown",
   "id": "9447b45a-83bf-4398-a92c-0996d26ed2fd",
   "metadata": {},
   "source": [
    "<h4>Distribution of Ages of people who did not survive</h4>\n",
    "<p>Below chart is the distribution of ages of people who couldn't make it.</p>"
   ]
  },
  {
   "cell_type": "code",
   "execution_count": 207,
   "id": "3bbce434-33ee-4ebd-b5e5-41cc77131884",
   "metadata": {},
   "outputs": [
    {
     "data": {
      "image/png": "[encoded data removed]",
      "text/plain": [
       "<Figure size 640x480 with 1 Axes>"
      ]
     },
     "metadata": {},
     "output_type": "display_data"
    }
   ],
   "source": [
    "age_died = died.Age\n",
    "plt.hist(age_died, color ='red',edgecolor='black',bins=20)\n",
    "plt.show()"
   ]
  },
  {
   "cell_type": "markdown",
   "id": "3cf9c57b-cb9a-400f-8241-e548131093ae",
   "metadata": {},
   "source": [
    "<h5>OBSERVATION:</h5>\n",
    "<p>All the age distributions, that of the passenger, survived and died look almost similar.</p>"
   ]
  },
  {
   "cell_type": "markdown",
   "id": "d4efc47d-a8a6-4262-8a11-2808a0eed42e",
   "metadata": {},
   "source": [
    "<h4>Relation between Family count & Survival</h4>"
   ]
  },
  {
   "cell_type": "code",
   "execution_count": 155,
   "id": "1d33edcd-769d-4c59-b0fe-94237a5e3637",
   "metadata": {},
   "outputs": [
    {
     "data": {
      "image/png": "[encoded data removed]",
      "text/plain": [
       "<Figure size 640x480 with 1 Axes>"
      ]
     },
     "metadata": {},
     "output_type": "display_data"
    }
   ],
   "source": [
    "familyCount = (titanic.Family_count.value_counts()).sort_index()\n",
    "surv_famCount = survivors.Family_count.value_counts().sort_index()\n",
    "died_famCount = died.Family_count.value_counts().sort_index()\n",
    "\n",
    "aligned_surv = surv_famCount.reindex(surv_famCount.index.union(died_famCount.index), fill_value = 0)\n",
    "aligned_died = died_famCount.reindex(died_famCount.index.union(surv_famCount.index),fill_value=0)\n",
    "\n",
    "fig, axs = plt.subplots()\n",
    "\n",
    "axs.bar(aligned_died.index, aligned_died, color='red',label=\"Not survived\")\n",
    "axs.bar(aligned_surv.index, aligned_surv, bottom=aligned_died, color='green', label=\"Survived\")\n",
    "\n",
    "axs.set_title(\"Family Count Vs Survival\")\n",
    "axs.legend()\n",
    "fig.tight_layout()\n",
    "plt.show()\n"
   ]
  },
  {
   "cell_type": "markdown",
   "id": "de843bd5-763d-4c12-a476-1bbd0dc660a9",
   "metadata": {},
   "source": [
    "<h5>OBSERVATION</h5>\n",
    "<p>This is the visualization of how family count influenced the survival of people</p>"
   ]
  },
  {
   "cell_type": "markdown",
   "id": "ab2f6070-ca93-41e4-8895-24d6ca61fddc",
   "metadata": {},
   "source": [
    "<h4>Survival Count by embarked port</h4>\n",
    "\n",
    "<p>We will examine whether the port from where people boarded from have an influence over their survival</p>\n",
    "\n",
    "C --> Cherbourg\n",
    "\n",
    "Q --> Queenstown\n",
    "\n",
    "S --> Southampton"
   ]
  },
  {
   "cell_type": "code",
   "execution_count": 22,
   "id": "1da423c7-5e9e-4a19-af57-0088e007293e",
   "metadata": {},
   "outputs": [
    {
     "data": {
      "image/png": "[encoded data removed]",
      "text/plain": [
       "<Figure size 640x480 with 2 Axes>"
      ]
     },
     "metadata": {},
     "output_type": "display_data"
    }
   ],
   "source": [
    "embarkDfSurv = survivors.groupby(['Embarked']).size()\n",
    "embarkDfDead = died.groupby(['Embarked']).size()\n",
    "\n",
    "fig, axs = plt.subplots(1,2)\n",
    "axs[0].pie(embarkDfSurv, labels=embarkDfSurv.index, autopct = '%1.1f%%')\n",
    "axs[1].pie(embarkDfDead, labels=embarkDfDead.index, autopct = '%1.1f%%')\n",
    "axs[0].set_title('Survivors Pie')\n",
    "axs[1].set_title('Non Survivors Pie')\n",
    "plt.show()"
   ]
  },
  {
   "cell_type": "markdown",
   "id": "b13af6ad-7981-4523-8fba-5ecb8f0ac20b",
   "metadata": {},
   "source": [
    "<h4>OBSERVATION:</h4>\n",
    "\n",
    "<p>It is clearly visible from the above chart that majority of people who survived were from the Southampton, followed by Cherbourg and then Queenstown. It might be due to the fact that majority of the people embarked from Southampton. Now we are going to evaluate the influence of the embarkment port on the survival rates of people.</p>"
   ]
  },
  {
   "cell_type": "code",
   "execution_count": 181,
   "id": "3a2cd4d6-4143-4493-b4ae-ec4bbccdad44",
   "metadata": {},
   "outputs": [
    {
     "data": {
      "image/png": "[encoded data removed]",
      "text/plain": [
       "<Figure size 640x480 with 1 Axes>"
      ]
     },
     "metadata": {},
     "output_type": "display_data"
    }
   ],
   "source": [
    "plt.bar(titanic.Embarked.unique(), died.Embarked.value_counts(), color='red',label=\"Not Survived\")\n",
    "plt.bar(titanic.Embarked.unique(), survivors.Embarked.value_counts(),bottom= died.Embarked.value_counts(),color='green', label=\"Survived\")\n",
    "plt.legend()\n",
    "plt.show()"
   ]
  },
  {
   "cell_type": "markdown",
   "id": "0b978ef5-080c-45b3-86b8-c540e4710047",
   "metadata": {},
   "source": [
    "<h4>OBSERVATION:</h4>\n",
    "\n",
    "<p>The insight that we get from the above chart is that, being embarked from Southampton didn't increase the chances of survival. Among 3 ports, Cherbourg port has better survival rates.</p>"
   ]
  },
  {
   "cell_type": "markdown",
   "id": "327a6c67-a2f0-4a16-9d85-2e5e44f1f657",
   "metadata": {},
   "source": [
    "<h4>Survival Count by Title</h4>"
   ]
  },
  {
   "cell_type": "code",
   "execution_count": 199,
   "id": "61d10dfb-4cac-4e72-86a4-a62415fe838f",
   "metadata": {},
   "outputs": [
    {
     "data": {
      "image/png": "[encoded data removed]",
      "text/plain": [
       "<Figure size 2000x300 with 1 Axes>"
      ]
     },
     "metadata": {},
     "output_type": "display_data"
    }
   ],
   "source": [
    "diedTitle = died.Title.value_counts()\n",
    "survivedTitle = survivors.Title.value_counts()\n",
    "\n",
    "alignedDTle = diedTitle.reindex(diedTitle.index.union(survivedTitle.index), fill_value=0)\n",
    "alignedSTle = survivedTitle.reindex(survivedTitle.index.union(diedTitle.index), fill_value=0)\n",
    "\n",
    "plt.figure(figsize = (20,3))\n",
    "\n",
    "plt.bar(alignedDTle.index, alignedDTle, color=\"red\", label=\"Not Survived\")\n",
    "plt.bar(alignedSTle.index, alignedSTle, bottom = alignedDTle,color=\"green\", label=\"Survived\")\n",
    "plt.tight_layout()\n",
    "plt.legend()\n",
    "plt.show()\n"
   ]
  },
  {
   "cell_type": "markdown",
   "id": "685fe8eb-9dc8-43a6-aa2e-52835e0231f2",
   "metadata": {},
   "source": [
    "<h4>OBSERVATION:</h4>\n",
    "\n",
    "<p>The above chart clearly shows that people whose name had prefix 'Mr' had low probability of survival, whereas names with preifixes 'Mrs' & 'Miss' had better chances of survival</p>\n",
    "<p>Also being a 'Master', gives you a good chance of survival.</p>"
   ]
  },
  {
   "cell_type": "markdown",
   "id": "00047453-b253-4817-b3e6-a0fa6e7f37c8",
   "metadata": {},
   "source": [
    "<h3>Fare distribution among passengers</h3>"
   ]
  },
  {
   "cell_type": "code",
   "execution_count": 204,
   "id": "5f21f4a8-b88d-402c-98d1-44d255e11290",
   "metadata": {},
   "outputs": [
    {
     "data": {
      "image/png": "[encoded data removed]",
      "text/plain": [
       "<Figure size 640x480 with 1 Axes>"
      ]
     },
     "metadata": {},
     "output_type": "display_data"
    }
   ],
   "source": [
    "plt.hist(titanic.Fare, bins = 20, edgecolor='black')\n",
    "plt.xlabel(\"Fare\")\n",
    "plt.ylabel(\"Count\")\n",
    "plt.show()"
   ]
  }
 ],
 "metadata": {
  "kernelspec": {
   "display_name": "Python (firstEnv)",
   "language": "python",
   "name": "firstenv"
  },
  "language_info": {
   "codemirror_mode": {
    "name": "ipython",
    "version": 3
   },
   "file_extension": ".py",
   "mimetype": "text/x-python",
   "name": "python",
   "nbconvert_exporter": "python",
   "pygments_lexer": "ipython3",
   "version": "3.10.18"
  }
 },
 "nbformat": 4,
 "nbformat_minor": 5
}
